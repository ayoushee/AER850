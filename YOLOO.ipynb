{
  "nbformat": 4,
  "nbformat_minor": 0,
  "metadata": {
    "colab": {
      "provenance": [],
      "gpuType": "T4",
      "authorship_tag": "ABX9TyNb8FXqgUosGAo0k/IGqiS3",
      "include_colab_link": true
    },
    "kernelspec": {
      "name": "python3",
      "display_name": "Python 3"
    },
    "language_info": {
      "name": "python"
    },
    "accelerator": "GPU"
  },
  "cells": [
    {
      "cell_type": "markdown",
      "metadata": {
        "id": "view-in-github",
        "colab_type": "text"
      },
      "source": [
        "<a href=\"https://colab.research.google.com/github/ayoushee/AER850/blob/main/YOLOO.ipynb\" target=\"_parent\"><img src=\"https://colab.research.google.com/assets/colab-badge.svg\" alt=\"Open In Colab\"/></a>"
      ]
    },
    {
      "cell_type": "code",
      "execution_count": null,
      "metadata": {
        "id": "WX1FfNasXH0G"
      },
      "outputs": [],
      "source": [
        "!pip install ultralytics\n",
        "from google.colab import drive\n",
        "drive.mount('/content/drive')"
      ]
    },
    {
      "cell_type": "code",
      "source": [
        "from ultralytics import YOLO\n",
        "\n",
        "model = YOLO('yolov8n.pt')\n",
        "\n",
        "data_path = '/content/drive/MyDrive/PCB_dataset/data.yaml'\n",
        "model.train(\n",
        "    data=data_path,\n",
        "    epochs=50,\n",
        "    batch=4,\n",
        "    imgsz=900,\n",
        "    name='pcb_detector'\n",
        ")"
      ],
      "metadata": {
        "id": "xUV8YQdHXKFQ"
      },
      "execution_count": null,
      "outputs": []
    },
    {
      "cell_type": "code",
      "source": [
        "from ultralytics import YOLO\n",
        "\n",
        "model = YOLO('/content/runs/detect/pcb_detector/weights/best.pt')\n",
        "\n",
        "evaluation_images = [\n",
        "    '/content/drive/MyDrive/PCB_dataset/evaluation/ardmega.jpg',\n",
        "    '/content/drive/MyDrive/PCB_dataset/evaluation/arduno.jpg',\n",
        "    '/content/drive/MyDrive/PCB_dataset/evaluation/rasppi.jpg'\n",
        "]\n",
        "\n",
        "for image_path in evaluation_images:\n",
        "    results_list = model.predict(source=image_path, save=True, conf=0.25)\n",
        "    print(f\"Predictions for {image_path}:\")\n",
        "    for results in results_list:\n",
        "      print(results)\n",
        "      results.show()\n"
      ],
      "metadata": {
        "id": "9AYXrD_7XRNg"
      },
      "execution_count": null,
      "outputs": []
    }
  ]
}